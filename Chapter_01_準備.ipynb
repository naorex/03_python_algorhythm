{
  "cells": [
    {
      "cell_type": "code",
      "execution_count": 6,
      "metadata": {
        "colab": {
          "base_uri": "https://localhost:8080/"
        },
        "id": "GD2qNvMsVnNV",
        "outputId": "2fd804b4-0475-4ee8-da69-75078eb73f71"
      },
      "outputs": [
        {
          "data": {
            "text/plain": [
              "0.2578594000078738"
            ]
          },
          "execution_count": 6,
          "metadata": {},
          "output_type": "execute_result"
        }
      ],
      "source": [
        "# timeit ライブラリを用いてプログラムの実行時間を計測\n",
        "from timeit import timeit\n",
        "\n",
        "# ()内のプログラムを100万回実行した際の秒数を返す\n",
        "timeit('[x for x in range(10)]')"
      ]
    },
    {
      "cell_type": "code",
      "execution_count": 7,
      "metadata": {
        "colab": {
          "base_uri": "https://localhost:8080/"
        },
        "id": "DUnETNLuWjXI",
        "outputId": "461fd6e2-e908-4aae-d358-fe46fe9bc180"
      },
      "outputs": [
        {
          "data": {
            "text/plain": [
              "15.751187999965623"
            ]
          },
          "execution_count": 7,
          "metadata": {},
          "output_type": "execute_result"
        }
      ],
      "source": [
        "# 回数を増やしてみる\n",
        "timeit('[x for x in range(1000)]')"
      ]
    },
    {
      "cell_type": "code",
      "execution_count": 8,
      "metadata": {
        "colab": {
          "base_uri": "https://localhost:8080/"
        },
        "id": "YOIMLVDDWzXG",
        "outputId": "5f6d9eef-cf9c-4b79-e455-5cabfc7a9e30"
      },
      "outputs": [
        {
          "data": {
            "text/plain": [
              "0.0181435999693349"
            ]
          },
          "execution_count": 8,
          "metadata": {},
          "output_type": "execute_result"
        }
      ],
      "source": [
        "# 実行回数を1000回まで減らしてみる\n",
        "timeit('[x for x in range(1000)]', number=1000)"
      ]
    },
    {
      "cell_type": "code",
      "execution_count": 9,
      "metadata": {
        "id": "Z65kezpiXX9Q"
      },
      "outputs": [],
      "source": [
        "# ターミナルからtimeitを呼び出して実行する場合は以下を入力\n",
        "# python -m timeit [x for x in range(10)]"
      ]
    }
  ],
  "metadata": {
    "colab": {
      "provenance": []
    },
    "kernelspec": {
      "display_name": "Python 3",
      "name": "python3"
    },
    "language_info": {
      "name": "python"
    }
  },
  "nbformat": 4,
  "nbformat_minor": 0
}
