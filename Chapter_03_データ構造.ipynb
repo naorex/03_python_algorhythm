{
  "cells": [
    {
      "attachments": {},
      "cell_type": "markdown",
      "metadata": {
        "id": "n-c8q-VFO_Dw"
      },
      "source": [
        "# リスト構造"
      ]
    },
    {
      "cell_type": "code",
      "execution_count": 1,
      "metadata": {
        "colab": {
          "base_uri": "https://localhost:8080/"
        },
        "id": "OkOeib7RO11_",
        "outputId": "209851ed-be46-4eb0-aa88-cf179734bf6d"
      },
      "outputs": [
        {
          "name": "stdout",
          "output_type": "stream",
          "text": [
            "[12, 34, 56, 78, 90]\n",
            "[1.23, 4.56, 7.89]\n",
            "[3, -1, 10]\n"
          ]
        }
      ],
      "source": [
        "# 数値のリスト\n",
        "a = [12,34,56,78,90]\n",
        "print(a)\n",
        "\n",
        "b = [1.23,4.56,7.89]\n",
        "print(b)\n",
        "\n",
        "c = [1+2, 3-4, 5+5]\n",
        "print(c)"
      ]
    },
    {
      "cell_type": "code",
      "execution_count": 2,
      "metadata": {
        "colab": {
          "base_uri": "https://localhost:8080/"
        },
        "id": "Q-MFobsDPnxV",
        "outputId": "e7b3a5cb-2f58-4ef0-82d2-4a5bc01f0283"
      },
      "outputs": [
        {
          "name": "stdout",
          "output_type": "stream",
          "text": [
            "I can't say \"GoodBye\"\n",
            "I can't say \"GoodBye\"\n"
          ]
        }
      ],
      "source": [
        "# ' と \" の注意。エスケープシーケンス(\\)を活用する事で直後の'\"を無効化できる\n",
        "print('I can\\'t say \"GoodBye\"')\n",
        "print(\"I can't say \\\"GoodBye\\\"\")"
      ]
    },
    {
      "cell_type": "code",
      "execution_count": 3,
      "metadata": {
        "colab": {
          "base_uri": "https://localhost:8080/"
        },
        "id": "8LBw7SmtQQ91",
        "outputId": "8514fc51-fae2-4fc5-ab0f-297192cc6c63"
      },
      "outputs": [
        {
          "name": "stdout",
          "output_type": "stream",
          "text": [
            "['coffee', 'juice', 'tea']\n"
          ]
        }
      ],
      "source": [
        "# 文字列のリスト\n",
        "drink = ['coffee','juice','tea']\n",
        "print(drink)"
      ]
    },
    {
      "cell_type": "code",
      "execution_count": 4,
      "metadata": {
        "colab": {
          "base_uri": "https://localhost:8080/"
        },
        "id": "dxMEsawCQtd8",
        "outputId": "ad695770-2620-48bc-f67b-6c1cef6dba28"
      },
      "outputs": [
        {
          "name": "stdout",
          "output_type": "stream",
          "text": [
            "[0, 1, 2, 3, 4, 5, 6, 7, 8, 9]\n",
            "[1, 2, 3, 4, 5, 6, 7, 8, 9, 10]\n",
            "[1, 3, 5, 7, 9]\n"
          ]
        }
      ],
      "source": [
        "# list関数とrange関数の合わせ技\n",
        "b = list(range(10))\n",
        "print(b)\n",
        "\n",
        "c = list(range(1,11))\n",
        "print(c)\n",
        "\n",
        "d = list(range(1,10,2))\n",
        "print(d)"
      ]
    },
    {
      "cell_type": "code",
      "execution_count": 5,
      "metadata": {
        "colab": {
          "base_uri": "https://localhost:8080/"
        },
        "id": "OrgjgbL7RQNg",
        "outputId": "4fe895dd-567b-42d8-b2e5-be46eb83c020"
      },
      "outputs": [
        {
          "data": {
            "text/plain": [
              "['p', 'y', 't', 'h', 'o', 'n']"
            ]
          },
          "execution_count": 5,
          "metadata": {},
          "output_type": "execute_result"
        }
      ],
      "source": [
        "# 単語を文字列毎にlist関数へ\n",
        "list('python')"
      ]
    },
    {
      "cell_type": "code",
      "execution_count": 6,
      "metadata": {
        "colab": {
          "base_uri": "https://localhost:8080/"
        },
        "id": "p3oA_lx4Rnha",
        "outputId": "85aaea15-84b3-4dec-9cc2-42e16fb30c4a"
      },
      "outputs": [
        {
          "name": "stdout",
          "output_type": "stream",
          "text": [
            "A C G\n",
            "A C G\n"
          ]
        }
      ],
      "source": [
        "# シーケンスで要素にアクセス\n",
        "alpha = list('ABCDEFG')\n",
        "print(alpha[0],alpha[2],alpha[6])\n",
        "print(alpha[-7],alpha[-5],alpha[-1])"
      ]
    },
    {
      "cell_type": "code",
      "execution_count": 7,
      "metadata": {
        "colab": {
          "base_uri": "https://localhost:8080/"
        },
        "id": "ClbiJ_UeSdyR",
        "outputId": "af777ac8-4f13-4781-8f52-23101ba73ff0"
      },
      "outputs": [
        {
          "name": "stdout",
          "output_type": "stream",
          "text": [
            "['C', 'D', 'E']\n",
            "['C', 'D']\n"
          ]
        }
      ],
      "source": [
        "# スライスでlistから要素を切り出し\n",
        "print(alpha[2:5])\n",
        "print(alpha[2:4]) # 終了インデックスは切り出されない事に注意"
      ]
    },
    {
      "cell_type": "code",
      "execution_count": 8,
      "metadata": {
        "colab": {
          "base_uri": "https://localhost:8080/"
        },
        "id": "JICBPv0CS1WI",
        "outputId": "1910f3ca-1517-4a10-e435-d2851b6b5036"
      },
      "outputs": [
        {
          "name": "stdout",
          "output_type": "stream",
          "text": [
            "[1, 2, 3, 4, 5, 6, 7, 8, 9, 10, 11, 12, 13]\n",
            "['A', 2, 3, 4, 5, 6, 7, 8, 9, 10, 11, 12, 13]\n",
            "['A', 2, 3, 4, 5, 6, 7, 8, 9, 10, 'J', 'Q', 'K']\n"
          ]
        }
      ],
      "source": [
        "# リストの要素を変更する\n",
        "card = list(range(1,14))\n",
        "print(card)\n",
        "\n",
        "card[0] = 'A'\n",
        "print(card)\n",
        "\n",
        "card[10:] = 'JQK'\n",
        "print(card)"
      ]
    },
    {
      "cell_type": "code",
      "execution_count": 9,
      "metadata": {
        "colab": {
          "base_uri": "https://localhost:8080/"
        },
        "id": "Awt6vwOHTnMU",
        "outputId": "a211479e-aaa9-4679-93d0-17246e426169"
      },
      "outputs": [
        {
          "name": "stdout",
          "output_type": "stream",
          "text": [
            "['coffee', 'juice', 'tea']\n",
            "['coffee', 'juice', 'latte', 'tea']\n",
            "['coffee', 'juice', 'latte', 'soda', 'tea']\n",
            "['coffee', 'juice', 'shake', 'latte', 'soda', 'tea']\n"
          ]
        }
      ],
      "source": [
        "# リストに要素を追加\n",
        "\n",
        "# 末尾に追加\n",
        "drink = ['coffee','juice']\n",
        "drink.append('tea')\n",
        "print(drink)\n",
        "\n",
        "# 途中に挿入\n",
        "drink.insert(2,'latte')\n",
        "print(drink)\n",
        "\n",
        "drink.insert(-1,'soda')\n",
        "print(drink)\n",
        "\n",
        "# スライスで挿入\n",
        "drink[2:2] = ['shake']\n",
        "print(drink)"
      ]
    },
    {
      "cell_type": "code",
      "execution_count": 10,
      "metadata": {
        "colab": {
          "base_uri": "https://localhost:8080/"
        },
        "id": "raGULhLtUZV3",
        "outputId": "233cd94d-0d77-45f2-d2cd-a59421687b5e"
      },
      "outputs": [
        {
          "name": "stdout",
          "output_type": "stream",
          "text": [
            "['coffee', 'shake', 'latte', 'soda', 'tea']\n",
            "['coffee', 'latte', 'soda', 'tea']\n",
            "['coffee', 'soda', 'tea']\n"
          ]
        }
      ],
      "source": [
        "# リストから要素を削除\n",
        "drink.remove('juice')\n",
        "print(drink)\n",
        "\n",
        "drink.pop(1) # インデックスで指定する\n",
        "print(drink)\n",
        "\n",
        "del drink[1] # インデックスで指定する\n",
        "print(drink)"
      ]
    }
  ],
  "metadata": {
    "colab": {
      "provenance": []
    },
    "kernelspec": {
      "display_name": "Python 3",
      "name": "python3"
    },
    "language_info": {
      "codemirror_mode": {
        "name": "ipython",
        "version": 3
      },
      "file_extension": ".py",
      "mimetype": "text/x-python",
      "name": "python",
      "nbconvert_exporter": "python",
      "pygments_lexer": "ipython3",
      "version": "3.11.3"
    }
  },
  "nbformat": 4,
  "nbformat_minor": 0
}
